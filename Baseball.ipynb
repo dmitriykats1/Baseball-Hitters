{
 "cells": [
  {
   "cell_type": "code",
   "execution_count": 3,
   "metadata": {
    "ExecuteTime": {
     "end_time": "2019-06-01T19:24:05.537082Z",
     "start_time": "2019-06-01T19:24:02.328710Z"
    }
   },
   "outputs": [],
   "source": [
    "import pandas as pd\n",
    "import matplotlib.pyplot as plt\n",
    "import seaborn as sns\n",
    "sns.set_style(style='whitegrid')\n",
    "import requests\n",
    "import time\n",
    "#Player Data:\n",
    "#https://appac.github.io/mlb-data-api-docs/#player-data-player-search-get\n",
    "#Homerun Data:\n",
    "#https://www.statcrunch.com/5.0/shareddata.php?keywords=BASEBALL"
   ]
  },
  {
   "cell_type": "code",
   "execution_count": 4,
   "metadata": {
    "ExecuteTime": {
     "end_time": "2019-06-01T19:24:05.552759Z",
     "start_time": "2019-06-01T19:24:05.546902Z"
    }
   },
   "outputs": [],
   "source": [
    "#uses the APPAC API to retrieve Player information\n",
    "def get_hit_hand(last_name):\n",
    "    time.sleep(0.1)\n",
    "    bat_hand = ''\n",
    "    name = last_name\n",
    "    url = f\"http://lookup-service-prod.mlb.com/json/named.search_player_all.bam?sport_code='mlb'&active_sw='Y'\\\n",
    "&name_part='{name}%25'\"\n",
    "    try:\n",
    "        r = requests.get(url)\n",
    "        json_data = r.json()\n",
    "        bat_hand = json_data['search_player_all']['queryResults']['row'].get('bats')\n",
    "    except:\n",
    "        pass\n",
    "    return bat_hand"
   ]
  },
  {
   "cell_type": "code",
   "execution_count": 6,
   "metadata": {
    "ExecuteTime": {
     "end_time": "2019-06-01T19:24:25.315994Z",
     "start_time": "2019-06-01T19:24:24.930054Z"
    }
   },
   "outputs": [],
   "source": [
    "#import the homerun data\n",
    "df = pd.read_csv('home_runs.csv', parse_dates=['Date'])"
   ]
  },
  {
   "cell_type": "code",
   "execution_count": 7,
   "metadata": {
    "ExecuteTime": {
     "end_time": "2019-06-01T19:24:26.662281Z",
     "start_time": "2019-06-01T19:24:26.645947Z"
    }
   },
   "outputs": [
    {
     "data": {
      "text/html": [
       "<div>\n",
       "<style scoped>\n",
       "    .dataframe tbody tr th:only-of-type {\n",
       "        vertical-align: middle;\n",
       "    }\n",
       "\n",
       "    .dataframe tbody tr th {\n",
       "        vertical-align: top;\n",
       "    }\n",
       "\n",
       "    .dataframe thead th {\n",
       "        text-align: right;\n",
       "    }\n",
       "</style>\n",
       "<table border=\"1\" class=\"dataframe\">\n",
       "  <thead>\n",
       "    <tr style=\"text-align: right;\">\n",
       "      <th></th>\n",
       "      <th>Date</th>\n",
       "      <th>Hitter</th>\n",
       "      <th>Hitter Team</th>\n",
       "      <th>Pitcher</th>\n",
       "      <th>Pitching Team</th>\n",
       "      <th>Inninng</th>\n",
       "      <th>Ballpark</th>\n",
       "      <th>Type</th>\n",
       "      <th>Distance</th>\n",
       "      <th>Speed Off Bat</th>\n",
       "      <th>Elev Angle</th>\n",
       "      <th>Hor Angle</th>\n",
       "      <th>Apex</th>\n",
       "      <th>Number of Parks</th>\n",
       "    </tr>\n",
       "  </thead>\n",
       "  <tbody>\n",
       "    <tr>\n",
       "      <th>0</th>\n",
       "      <td>2016-04-03</td>\n",
       "      <td>Tulowitzki, Troy</td>\n",
       "      <td>TOR</td>\n",
       "      <td>Webb, Ryan</td>\n",
       "      <td>TB</td>\n",
       "      <td>8</td>\n",
       "      <td>Tropicana Fi...</td>\n",
       "      <td>PL</td>\n",
       "      <td>400</td>\n",
       "      <td>105.2</td>\n",
       "      <td>25.5</td>\n",
       "      <td>108.3</td>\n",
       "      <td>76</td>\n",
       "      <td>30</td>\n",
       "    </tr>\n",
       "    <tr>\n",
       "      <th>1</th>\n",
       "      <td>2016-04-03</td>\n",
       "      <td>Dickerson, Corey</td>\n",
       "      <td>TB</td>\n",
       "      <td>Stroman, Marcus</td>\n",
       "      <td>TOR</td>\n",
       "      <td>9</td>\n",
       "      <td>Tropicana Fi...</td>\n",
       "      <td>PL</td>\n",
       "      <td>385</td>\n",
       "      <td>104.8</td>\n",
       "      <td>24.3</td>\n",
       "      <td>69.1</td>\n",
       "      <td>66</td>\n",
       "      <td>28</td>\n",
       "    </tr>\n",
       "    <tr>\n",
       "      <th>2</th>\n",
       "      <td>2016-04-04</td>\n",
       "      <td>Story, Trevor</td>\n",
       "      <td>COL</td>\n",
       "      <td>Greinke, Zack</td>\n",
       "      <td>ARI</td>\n",
       "      <td>4</td>\n",
       "      <td>Chase Field</td>\n",
       "      <td>ND</td>\n",
       "      <td>428</td>\n",
       "      <td>107.1</td>\n",
       "      <td>29.7</td>\n",
       "      <td>107.1</td>\n",
       "      <td>107</td>\n",
       "      <td>30</td>\n",
       "    </tr>\n",
       "    <tr>\n",
       "      <th>3</th>\n",
       "      <td>2016-04-04</td>\n",
       "      <td>Posey, Buster</td>\n",
       "      <td>SF</td>\n",
       "      <td>Pena, Ariel</td>\n",
       "      <td>MIL</td>\n",
       "      <td>8</td>\n",
       "      <td>Miller Park</td>\n",
       "      <td>PL</td>\n",
       "      <td>424</td>\n",
       "      <td>105.9</td>\n",
       "      <td>23.4</td>\n",
       "      <td>93.4</td>\n",
       "      <td>79</td>\n",
       "      <td>26</td>\n",
       "    </tr>\n",
       "    <tr>\n",
       "      <th>4</th>\n",
       "      <td>2016-04-04</td>\n",
       "      <td>Seager, Kyle</td>\n",
       "      <td>SEA</td>\n",
       "      <td>Hamels, Cole</td>\n",
       "      <td>TEX</td>\n",
       "      <td>2</td>\n",
       "      <td>Globe Life P...</td>\n",
       "      <td>PL</td>\n",
       "      <td>422</td>\n",
       "      <td>103.6</td>\n",
       "      <td>30.3</td>\n",
       "      <td>83.3</td>\n",
       "      <td>114</td>\n",
       "      <td>28</td>\n",
       "    </tr>\n",
       "  </tbody>\n",
       "</table>\n",
       "</div>"
      ],
      "text/plain": [
       "        Date            Hitter Hitter Team          Pitcher Pitching Team  \\\n",
       "0 2016-04-03  Tulowitzki, Troy         TOR       Webb, Ryan            TB   \n",
       "1 2016-04-03  Dickerson, Corey          TB  Stroman, Marcus           TOR   \n",
       "2 2016-04-04     Story, Trevor         COL    Greinke, Zack           ARI   \n",
       "3 2016-04-04     Posey, Buster          SF      Pena, Ariel           MIL   \n",
       "4 2016-04-04      Seager, Kyle         SEA     Hamels, Cole           TEX   \n",
       "\n",
       "   Inninng         Ballpark Type  Distance  Speed Off Bat  Elev Angle  \\\n",
       "0        8  Tropicana Fi...   PL       400          105.2        25.5   \n",
       "1        9  Tropicana Fi...   PL       385          104.8        24.3   \n",
       "2        4      Chase Field   ND       428          107.1        29.7   \n",
       "3        8      Miller Park   PL       424          105.9        23.4   \n",
       "4        2  Globe Life P...   PL       422          103.6        30.3   \n",
       "\n",
       "   Hor Angle  Apex  Number of Parks  \n",
       "0      108.3    76               30  \n",
       "1       69.1    66               28  \n",
       "2      107.1   107               30  \n",
       "3       93.4    79               26  \n",
       "4       83.3   114               28  "
      ]
     },
     "execution_count": 7,
     "metadata": {},
     "output_type": "execute_result"
    }
   ],
   "source": [
    "df.head()"
   ]
  },
  {
   "cell_type": "code",
   "execution_count": 8,
   "metadata": {
    "ExecuteTime": {
     "end_time": "2019-06-01T19:24:29.123908Z",
     "start_time": "2019-06-01T19:24:29.115952Z"
    }
   },
   "outputs": [],
   "source": [
    "#create a 'last name' column to use for look-up\n",
    "df['last_name'] = df.Hitter.apply(lambda x: x.split(',')[0].lower())"
   ]
  },
  {
   "cell_type": "code",
   "execution_count": 10,
   "metadata": {
    "ExecuteTime": {
     "end_time": "2019-06-01T19:44:17.999390Z",
     "start_time": "2019-06-01T19:24:49.510933Z"
    }
   },
   "outputs": [],
   "source": [
    "#'look up a player's batting side\n",
    "df['bat'] = df.last_name.apply(lambda x: get_hit_hand(x))"
   ]
  },
  {
   "cell_type": "code",
   "execution_count": 11,
   "metadata": {
    "ExecuteTime": {
     "end_time": "2019-06-01T19:44:18.124747Z",
     "start_time": "2019-06-01T19:44:18.101272Z"
    }
   },
   "outputs": [],
   "source": [
    "df_l = df[df.bat == \"L\"]\n",
    "df_r = df[df.bat == \"R\"]"
   ]
  },
  {
   "cell_type": "code",
   "execution_count": 13,
   "metadata": {
    "ExecuteTime": {
     "end_time": "2019-06-01T19:44:55.899160Z",
     "start_time": "2019-06-01T19:44:55.305769Z"
    },
    "scrolled": false
   },
   "outputs": [
    {
     "data": {
      "image/png": "[encoded data removed]",
      "text/plain": [
       "<Figure size 1008x576 with 1 Axes>"
      ]
     },
     "metadata": {
      "needs_background": "light"
     },
     "output_type": "display_data"
    }
   ],
   "source": [
    "fig, ax = plt.subplots(figsize = (14,8))\n",
    "df_r['Hor Angle'].hist(bins=100, color='orange')\n",
    "df_l['Hor Angle'].hist(bins=100, alpha=0.9)\n",
    "plt.xlabel('Angle Off Bat (degrees)', fontsize=14)\n",
    "plt.ylabel('Number of Home Runs', fontsize=14)\n",
    "plt.title('2016 - Distribution of Home Runs from Left and Right Handed Batters')\n",
    "plt.legend(['Right-Handed','Left-Handed'])\n",
    "plt.gca().invert_xaxis()"
   ]
  },
  {
   "cell_type": "code",
   "execution_count": null,
   "metadata": {},
   "outputs": [],
   "source": []
  }
 ],
 "metadata": {
  "kernelspec": {
   "display_name": "Python 3",
   "language": "python",
   "name": "python3"
  },
  "language_info": {
   "codemirror_mode": {
    "name": "ipython",
    "version": 3
   },
   "file_extension": ".py",
   "mimetype": "text/x-python",
   "name": "python",
   "nbconvert_exporter": "python",
   "pygments_lexer": "ipython3",
   "version": "3.7.1"
  },
  "toc": {
   "base_numbering": 1,
   "nav_menu": {},
   "number_sections": true,
   "sideBar": true,
   "skip_h1_title": false,
   "title_cell": "Table of Contents",
   "title_sidebar": "Contents",
   "toc_cell": false,
   "toc_position": {},
   "toc_section_display": true,
   "toc_window_display": false
  },
  "varInspector": {
   "cols": {
    "lenName": 16,
    "lenType": 16,
    "lenVar": 40
   },
   "kernels_config": {
    "python": {
     "delete_cmd_postfix": "",
     "delete_cmd_prefix": "del ",
     "library": "var_list.py",
     "varRefreshCmd": "print(var_dic_list())"
    },
    "r": {
     "delete_cmd_postfix": ") ",
     "delete_cmd_prefix": "rm(",
     "library": "var_list.r",
     "varRefreshCmd": "cat(var_dic_list()) "
    }
   },
   "types_to_exclude": [
    "module",
    "function",
    "builtin_function_or_method",
    "instance",
    "_Feature"
   ],
   "window_display": false
  }
 },
 "nbformat": 4,
 "nbformat_minor": 2
}
